{
 "cells": [
  {
   "cell_type": "code",
   "execution_count": null,
   "id": "2ba9b8bc",
   "metadata": {},
   "outputs": [],
   "source": [
    "import numpy as np\n",
    "from keras.datasets import mnist\n",
    "import tensorflow as tf\n",
    "from tensorflow.keras.models import Sequential # type: ignore\n",
    "from tensorflow.keras.layers import Dense # type: ignore \n",
    "from tensorflow.keras.activations import linear, relu, sigmoid # type: ignore \n",
    "import matplotlib.pyplot as plt"
   ]
  },
  {
   "cell_type": "code",
   "execution_count": null,
   "id": "ec182e5f",
   "metadata": {},
   "outputs": [],
   "source": [
    "# Load MNIST dataset\n",
    "(train_images, train_labels), (test_images, test_labels) = mnist.load_data()"
   ]
  },
  {
   "cell_type": "code",
   "execution_count": null,
   "id": "524b2c3d",
   "metadata": {},
   "outputs": [],
   "source": [
    "print('First image (as array):\\n', train_images[0])\n",
    "print('First label:', train_labels[0])\n",
    "print('Image shape:', train_images[0].shape)"
   ]
  },
  {
   "cell_type": "code",
   "execution_count": null,
   "id": "e6c7c073",
   "metadata": {},
   "outputs": [],
   "source": [
    "# Display the first image\n",
    "plt.figure(figsize=(6, 6))\n",
    "plt.imshow(train_images[0], cmap='gray')\n",
    "plt.title(f'First Image - Label: {train_labels[0]}')\n",
    "plt.axis('off')\n",
    "plt.show()"
   ]
  },
  {
   "cell_type": "code",
   "execution_count": null,
   "id": "83685e85",
   "metadata": {},
   "outputs": [],
   "source": [
    "# Preprocess the data\n",
    "train_images = train_images.astype('float32') / 255.0\n",
    "test_images = test_images.astype('float32') / 255.0\n",
    "\n",
    "# Flatten images from (28, 28) to (784,)\n",
    "train_images = train_images.reshape((train_images.shape[0], 784))\n",
    "test_images = test_images.reshape((test_images.shape[0], 784))\n",
    "\n",
    "print(f\"Training data shape: {train_images.shape}\")\n",
    "print(f\"Test data shape: {test_images.shape}\")\n",
    "print(f\"Pixel value range: {train_images.min()} to {train_images.max()}\")"
   ]
  },
  {
   "cell_type": "code",
   "execution_count": null,
   "id": "e9f3e30f",
   "metadata": {},
   "outputs": [],
   "source": [
    "model = Sequential([\n",
    "    tf.keras.Input(shape=(784,)),  # type: ignore\n",
    "    Dense(256, activation='relu', name=\"L0\"),\n",
    "    Dense(128, activation='relu', name=\"L1\"),  \n",
    "    Dense(64, activation='relu', name=\"L2\"),     \n",
    "    Dense(10, activation='linear', name=\"OL\")    # Removed extra layers\n",
    "], name='mnist_model')"
   ]
  },
  {
   "cell_type": "code",
   "execution_count": null,
   "id": "e0d3de05",
   "metadata": {},
   "outputs": [],
   "source": [
    "model.summary()"
   ]
  },
  {
   "cell_type": "code",
   "execution_count": null,
   "id": "1a609759",
   "metadata": {},
   "outputs": [],
   "source": [
    "[layer1, layer2, layer3] = model.layers[:3]"
   ]
  },
  {
   "cell_type": "code",
   "execution_count": null,
   "id": "12dea0ec",
   "metadata": {},
   "outputs": [],
   "source": [
    "#### Examine Weights shapes\n",
    "W1,b1 = layer1.get_weights()\n",
    "W2,b2 = layer2.get_weights()\n",
    "W3,b3 = layer3.get_weights()\n",
    "\n",
    "print(f\"W1 shape = {W1.shape}, b1 shape = {b1.shape}\")\n",
    "print(f\"W2 shape = {W2.shape}, b2 shape = {b2.shape}\")\n",
    "print(f\"W3 shape = {W3.shape}, b3 shape = {b3.shape}\")"
   ]
  },
  {
   "cell_type": "code",
   "execution_count": null,
   "id": "5fb4092c",
   "metadata": {},
   "outputs": [],
   "source": [
    "model.compile(\n",
    "    loss=tf.keras.losses.SparseCategoricalCrossentropy(from_logits=True), # type: ignore\n",
    "    optimizer=tf.keras.optimizers.Adam(learning_rate=0.001), # type: ignore\n",
    "    metrics=['accuracy']\n",
    ")\n",
    "\n",
    "history = model.fit(\n",
    "    train_images, train_labels,\n",
    "    epochs=100,\n",
    "    batch_size=128,\n",
    "    validation_data=(test_images, test_labels), \n",
    "    verbose=1\n",
    ")"
   ]
  },
  {
   "cell_type": "code",
   "execution_count": null,
   "id": "94695b85",
   "metadata": {},
   "outputs": [],
   "source": [
    "# Test prediction on a single image\n",
    "def display_digit(image):\n",
    "    plt.figure(figsize=(4, 4))\n",
    "    plt.imshow(image.reshape(28, 28), cmap='gray')\n",
    "    plt.axis('off')\n",
    "    plt.show()\n",
    "\n",
    "# Get a test image\n",
    "image_of_four = test_images[1015] \n",
    "display_digit(image_of_four* 255)  \n",
    "\n",
    "# Make prediction\n",
    "prediction = model.predict(image_of_four.reshape(1, 784))  \n",
    "\n",
    "print(f\"Predicting digit: \\n{prediction}\")\n",
    "print(f\"Predicted digit: {np.argmax(prediction)}\")\n",
    "print(f\"Actual label: {test_labels[1015]}\")"
   ]
  },
  {
   "cell_type": "code",
   "execution_count": null,
   "id": "91a95f75",
   "metadata": {},
   "outputs": [],
   "source": [
    "# Show probability distribution for prediction\n",
    "def show_prediction_probabilities(image, true_label, model):\n",
    "\n",
    "    prediction = model.predict(image.reshape(1, 784), verbose=0)\n",
    "    \n",
    "\n",
    "    probabilities = tf.nn.softmax(prediction).numpy()[0]\n",
    "    predicted_digit = np.argmax(probabilities)\n",
    "    \n",
    "\n",
    "    plt.figure(figsize=(12, 4))\n",
    "    \n",
    "    # Plot the image\n",
    "    plt.subplot(1, 2, 1)\n",
    "    plt.imshow(image.reshape(28, 28), cmap='gray')\n",
    "    plt.title(f'True Label: {true_label}\\nPredicted: {predicted_digit}')\n",
    "    plt.axis('off')\n",
    "    \n",
    "    # Plot probability distribution\n",
    "    plt.subplot(1, 2, 2)\n",
    "    digits = np.arange(10)\n",
    "    bars = plt.bar(digits, probabilities * 100, color='lightblue', edgecolor='navy')\n",
    "    \n",
    "    # Highlight the predicted digit\n",
    "    bars[predicted_digit].set_color('red')\n",
    "    \n",
    "    plt.xlabel('Digit')\n",
    "    plt.ylabel('Probability (%)')\n",
    "    plt.title('Prediction Probabilities')\n",
    "    plt.xticks(digits)\n",
    "    plt.grid(True, alpha=0.3)\n",
    "    \n",
    "    # Add percentage labels on bars\n",
    "    for i, prob in enumerate(probabilities):\n",
    "        plt.text(i, prob * 100 + 1, f'{prob*100:.1f}%', \n",
    "                ha='center', va='bottom', fontsize=8)\n",
    "    \n",
    "    plt.tight_layout()\n",
    "    plt.show()\n",
    "    \n",
    "    # Print detailed probabilities\n",
    "    print(f\"Detailed probabilities:\")\n",
    "    for digit, prob in enumerate(probabilities):\n",
    "        marker = \" ← PREDICTED\" if digit == predicted_digit else \"\"\n",
    "        print(f\"Digit {digit}: {prob*100:5.2f}%{marker}\")\n",
    "    \n",
    "    print(f\"\\nConfidence: {probabilities[predicted_digit]*100:.2f}%\")\n",
    "    print(f\"Correct prediction: {'✓' if predicted_digit == true_label else '✗'}\")\n",
    "\n",
    "# Test with a few different images\n",
    "test_indices = [0, 1015, 100, 500, 999]\n",
    "for i, idx in enumerate(test_indices):\n",
    "    print(f\"\\n{'='*50}\")\n",
    "    print(f\"Test Image #{i+1} (Index {idx})\")\n",
    "    print(f\"{'='*50}\")\n",
    "    show_prediction_probabilities(test_images[idx], test_labels[idx], model)"
   ]
  },
  {
   "cell_type": "code",
   "execution_count": null,
   "id": "ee000864",
   "metadata": {},
   "outputs": [],
   "source": [
    "# Evaluate model performance on test data\n",
    "print(\"Evaluating model on test data...\")\n",
    "print(\"=\"*50)\n",
    "\n",
    "# Get overall test accuracy\n",
    "test_loss, test_accuracy = model.evaluate(test_images, test_labels, verbose=0)\n",
    "print(f\"Test Loss: {test_loss:.4f}\")\n",
    "print(f\"Test Accuracy: {test_accuracy:.4f} ({test_accuracy*100:.2f}%)\")\n",
    "\n",
    "# Make predictions on entire test set\n",
    "predictions = model.predict(test_images, verbose=0)\n",
    "predicted_labels = np.argmax(tf.nn.softmax(predictions), axis=1)\n",
    "\n",
    "# Calculate accuracy manually for verification\n",
    "correct_predictions = np.sum(predicted_labels == test_labels)\n",
    "manual_accuracy = correct_predictions / len(test_labels)\n",
    "print(f\"Manual verification: {correct_predictions}/{len(test_labels)} = {manual_accuracy:.4f} ({manual_accuracy*100:.2f}%)\")\n",
    "\n",
    "# Per-digit accuracy analysis\n",
    "print(f\"\\nPer-digit accuracy:\")\n",
    "print(\"-\" * 30)\n",
    "for digit in range(10):\n",
    "    digit_mask = test_labels == digit\n",
    "    digit_predictions = predicted_labels[digit_mask]\n",
    "    digit_actual = test_labels[digit_mask]\n",
    "    digit_accuracy = np.sum(digit_predictions == digit_actual) / len(digit_actual)\n",
    "    digit_count = len(digit_actual)\n",
    "    print(f\"Digit {digit}: {digit_accuracy:.3f} ({digit_accuracy*100:5.1f}%) - {digit_count} samples\")\n",
    "\n",
    "# Show confusion matrix style summary\n",
    "print(f\"\\nOverall Performance Summary:\")\n",
    "print(\"-\" * 30)\n",
    "print(f\"Total test samples: {len(test_labels)}\")\n",
    "print(f\"Correct predictions: {correct_predictions}\")\n",
    "print(f\"Incorrect predictions: {len(test_labels) - correct_predictions}\")\n",
    "print(f\"Overall accuracy: {test_accuracy*100:.2f}%\")"
   ]
  },
  {
   "cell_type": "code",
   "execution_count": null,
   "id": "4cd8de25",
   "metadata": {},
   "outputs": [],
   "source": [
    "# Save the trained model weights for use in canvas.py\n",
    "model.save_weights('mnist_model.weights.h5')\n",
    "print(\"Model weights saved as 'mnist_model_weights.h5'\")\n",
    "\n",
    "# Optional: Also save the entire model\n",
    "model.save('mnist_complete_model.h5')\n",
    "print(\"Complete model saved as 'mnist_complete_model.h5'\")"
   ]
  }
 ],
 "metadata": {
  "kernelspec": {
   "display_name": ".venv",
   "language": "python",
   "name": "python3"
  },
  "language_info": {
   "codemirror_mode": {
    "name": "ipython",
    "version": 3
   },
   "file_extension": ".py",
   "mimetype": "text/x-python",
   "name": "python",
   "nbconvert_exporter": "python",
   "pygments_lexer": "ipython3",
   "version": "3.12.3"
  }
 },
 "nbformat": 4,
 "nbformat_minor": 5
}
